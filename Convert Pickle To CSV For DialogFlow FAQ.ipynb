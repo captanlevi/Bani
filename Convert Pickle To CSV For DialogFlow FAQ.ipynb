{
 "cells": [
  {
   "cell_type": "code",
   "execution_count": null,
   "metadata": {},
   "outputs": [],
   "source": [
    "import pickle\n",
    "\n",
    "def save_dict(obj, path):\n",
    "    # Save in .pickle format\n",
    "    with open(path, 'wb') as f:\n",
    "        pickle.dump(obj, f, pickle.HIGHEST_PROTOCOL)\n",
    "\n",
    "def load_dict(path):\n",
    "    # Load .pickle format as dictionary\n",
    "    with open(path, 'rb') as f:\n",
    "        return pickle.load(f)\n",
    "\n",
    "def extractQA(orignalDct):\n",
    "    # Return list of questions and answers in list format\n",
    "    # originalDct format: {\"question_to_label\": {<question 1>: <label that maps to answer>,...}, \n",
    "    #                      \"answer_to_label\": {<answer question 1>: <label for questions to be mapped to>}}\n",
    "    # Handles 1-1 mapping of question-answer OR many-1 mapping of question-answer\n",
    "    q2L = orignalDct[\"question_to_label\"]\n",
    "    a2L = orignalDct[\"answer_to_label\"]\n",
    "    \n",
    "\n",
    "    l2A = dict()\n",
    "    for a,l in a2L.items():\n",
    "        l2A[l] = a\n",
    "\n",
    "\n",
    "    questions = []\n",
    "    answers = []\n",
    "\n",
    "    for q,l in q2L.items():\n",
    "        questions.append(q)\n",
    "        answers.append(l2A[l])\n",
    "    return questions , answers\n",
    "\n",
    "def visualize_question_answer(questions, answers, show_pairs = 5):\n",
    "    count = 1\n",
    "    for question, answer in zip(questions, answers):\n",
    "        print(f\"Question {count}: {question}\\n\\n'{answer}''\")\n",
    "        print(\"=\"*117)\n",
    "        count += 1\n",
    "        if count > show_pairs:\n",
    "            break"
   ]
  },
  {
   "cell_type": "code",
   "execution_count": null,
   "metadata": {},
   "outputs": [],
   "source": [
    "import csv\n",
    "\n",
    "def convert_pickle_to_csv(questions, answers, file_name = \"new.csv\", is_bani = True):\n",
    "    # Take in lists of question and answer where question-answer pair have the same index in both lists\n",
    "    # Read each question-answer pair into csv\n",
    "    with open(file_name, mode='w') as new_csv:\n",
    "        csv_writer = csv.writer(new_csv, delimiter=',', quotechar='\"', quoting=csv.QUOTE_MINIMAL)\n",
    "\n",
    "        count = 0\n",
    "        for question, answer in zip(questions, answers):\n",
    "            if is_bani:\n",
    "                csv.writer.writerow([count, question, answer])\n",
    "                count += 1\n",
    "            else:\n",
    "                # Format for dialogflow\n",
    "                csv_writer.writerow([question, answer])"
   ]
  },
  {
   "cell_type": "code",
   "execution_count": null,
   "metadata": {},
   "outputs": [],
   "source": [
    "# Load orignalDct and the corresponding answers and questions \n",
    "comcare_faq = load_dict(\"./tutorialFAQs/comcare_orignal.pkl\")\n",
    "comcare_questions, comcare_answers = extractQA(comcare_faq)\n",
    "\n",
    "# visualize_question_answer(comcare_questions, comcare_answers, 5)\n",
    "convert_pickle_to_csv(comcare_questions, comcare_answers, \"comcare_original_dialogflow.csv\", False)"
   ]
  },
  {
   "cell_type": "code",
   "execution_count": null,
   "metadata": {},
   "outputs": [],
   "source": [
    "# Load orignalDct and the corresponding answers and questions \n",
    "faq = load_dict(\"./tutorialFAQs/baby_bonus_orignal.pkl\")\n",
    "questions, answers = extractQA(faq)\n",
    "\n",
    "# visualize_question_answer(questions, answers, 5)\n",
    "convert_pickle_to_csv(questions, answers, \"baby_bonus_original_dialogflow.csv\", False)"
   ]
  }
 ],
 "metadata": {
  "kernelspec": {
   "display_name": "Python 3",
   "language": "python",
   "name": "python3"
  },
  "language_info": {
   "codemirror_mode": {
    "name": "ipython",
    "version": 3
   },
   "file_extension": ".py",
   "mimetype": "text/x-python",
   "name": "python",
   "nbconvert_exporter": "python",
   "pygments_lexer": "ipython3",
   "version": "3.7.7"
  }
 },
 "nbformat": 4,
 "nbformat_minor": 4
}
