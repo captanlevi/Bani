{
 "cells": [
  {
   "cell_type": "markdown",
   "metadata": {},
   "source": [
    "## Purpose of Notebook\n",
    "In this notebook, I will be testing out `./tutorialFAQs/babybonusTest.csv` using a Dialogflow agent's knowledge base (beta feature). The agent's knowledge base will be using the babybonus's faq from `./tutorialFAQs/baby_bonus_orignal.pkl`.`./tutorialFAQs/babybonusTest.csv` contains two parallel lists of reframed and original questions. `./tutorialFAQs/baby_bonus_orignal.pkl` contains the original lists of question-answer pairs with *no question augmentation performed*.\n",
    "\n",
    "## How will it be tested\n",
    "I will pass each question from the \"reframed_questions\" to the agent and verify whether the question predicted by the agent matches the corresponding original question. \n",
    "\n",
    "## History of Test on Bani\n",
    "In Bani's test, the achieved accuracy was \"0.9140893470790378\". Three questions were omitted, amounting the total number of questions used to 291. "
   ]
  },
  {
   "cell_type": "code",
   "execution_count": 78,
   "metadata": {
    "scrolled": true
   },
   "outputs": [],
   "source": [
    "!pip install google-cloud-dialogflow"
   ]
  },
  {
   "cell_type": "code",
   "execution_count": 95,
   "metadata": {
    "scrolled": true
   },
   "outputs": [],
   "source": [
    "import os\n",
    "os.environ[\"GOOGLE_APPLICATION_CREDENTIALS\"]=\"/Users/james/Downloads/Chatbot_Key.json\"\n",
    "PROJECT_ID = \"chatbot-evaluation-299303\"\n",
    "SESSION_ID = \"123456789\"\n",
    "LANGUAGE_CODE = \"en-US\"\n",
    "BABY_BONUS_KB_ID = \"MTgxNjE2MDc3MjMyNzg0MDE1MzY\"\n",
    "COMCARE_KB_ID = \"MTIzMzAwMDkxNTU3ODcwMzA1Mjg\""
   ]
  },
  {
   "cell_type": "code",
   "execution_count": 147,
   "metadata": {},
   "outputs": [],
   "source": [
    "# import proto\n",
    "#     print(proto.Message.to_json(response))\n",
    "def detect_intent_knowledge(project_id, session_id, language_code,\n",
    "                            knowledge_base_id, texts):\n",
    "    \"\"\"Returns the result of detect intent with querying Knowledge Connector.\n",
    "    Args:\n",
    "    project_id: The GCP project linked with the agent you are going to query.\n",
    "    session_id: Id of the session, using the same `session_id` between requests\n",
    "              allows continuation of the conversation.\n",
    "    language_code: Language of the queries.\n",
    "    knowledge_base_id: The Knowledge base's id to query against.\n",
    "    texts: A list of text queries to send.\n",
    "    \"\"\"\n",
    "    from google.cloud import dialogflow_v2beta1 as dialogflow\n",
    "    session_client = dialogflow.SessionsClient()\n",
    "\n",
    "    session_path = session_client.session_path(project_id, session_id)\n",
    "\n",
    "    text_input = dialogflow.TextInput(\n",
    "        text=texts, language_code=language_code)\n",
    "\n",
    "    query_input = dialogflow.QueryInput(text=text_input)\n",
    "\n",
    "    knowledge_base_path = dialogflow.KnowledgeBasesClient \\\n",
    "        .knowledge_base_path(project_id, knowledge_base_id)\n",
    "\n",
    "    query_params = dialogflow.QueryParameters(\n",
    "        knowledge_base_names=[knowledge_base_path])\n",
    "\n",
    "    request = dialogflow.DetectIntentRequest(\n",
    "        session=session_path,\n",
    "        query_input=query_input,\n",
    "        query_params=query_params\n",
    "    )\n",
    "    response = session_client.detect_intent(request=request)\n",
    "    return response\n",
    "#     print(proto.Message.to_json(response))\n",
    "#     print('=' * 20)\n",
    "#     print('Query text: {}'.format(response.query_result.query_text))\n",
    "#     print('Detected intent: {} (confidence: {})\\n'.format(\n",
    "#         response.query_result.intent.display_name,\n",
    "#         response.query_result.intent_detection_confidence))\n",
    "#     print('Fulfillment text: {}\\n'.format(\n",
    "#         response.query_result.fulfillment_text))\n",
    "#     print('Knowledge results:')\n",
    "#     knowledge_answers = response.query_result.knowledge_answers\n",
    "#     for answers in knowledge_answers.answers:\n",
    "#         print(' - Answer: {}'.format(answers.answer))\n",
    "#         print(' - Confidence: {}'.format(\n",
    "#             answers.match_confidence))\n",
    "# [END dialogflow_detect_intent_knowledge]"
   ]
  },
  {
   "cell_type": "code",
   "execution_count": 220,
   "metadata": {
    "scrolled": true
   },
   "outputs": [],
   "source": [
    "response = detect_intent_knowledge(PROJECT_ID, SESSION_ID, LANGUAGE_CODE, BABY_BONUS_KB_ID, \"More information about AI\")"
   ]
  },
  {
   "cell_type": "code",
   "execution_count": 92,
   "metadata": {},
   "outputs": [],
   "source": [
    "import pandas as pd\n",
    "df = pd.read_csv(\"./tutorialFAQs/babybonusTest.csv\")\n",
    "# print(df.columns)\n",
    "original_questions = df[\"original\"].to_list()\n",
    "reframed_questions = df[\"reframed\"].to_list()"
   ]
  },
  {
   "cell_type": "code",
   "execution_count": 135,
   "metadata": {},
   "outputs": [
    {
     "name": "stdout",
     "output_type": "stream",
     "text": [
      "Collecting fuzzywuzzy\n",
      "  Downloading fuzzywuzzy-0.18.0-py2.py3-none-any.whl (18 kB)\n",
      "Installing collected packages: fuzzywuzzy\n",
      "Successfully installed fuzzywuzzy-0.18.0\n",
      "\u001b[33mWARNING: You are using pip version 20.2.3; however, version 20.3.3 is available.\n",
      "You should consider upgrading via the '/Library/Frameworks/Python.framework/Versions/3.7/bin/python3 -m pip install --upgrade pip' command.\u001b[0m\n",
      "Collecting python-Levenshtein\n",
      "  Downloading python-Levenshtein-0.12.0.tar.gz (48 kB)\n",
      "\u001b[K     |████████████████████████████████| 48 kB 312 kB/s eta 0:00:01\n",
      "\u001b[?25hRequirement already satisfied: setuptools in /Library/Frameworks/Python.framework/Versions/3.7/lib/python3.7/site-packages (from python-Levenshtein) (41.2.0)\n",
      "Building wheels for collected packages: python-Levenshtein\n",
      "  Building wheel for python-Levenshtein (setup.py) ... \u001b[?25ldone\n",
      "\u001b[?25h  Created wheel for python-Levenshtein: filename=python_Levenshtein-0.12.0-cp37-cp37m-macosx_10_9_x86_64.whl size=80008 sha256=3106c2b4d29a507bec92577cffeea48753396899a8c8e0f5540c1ec25304deb2\n",
      "  Stored in directory: /Users/james/Library/Caches/pip/wheels/f0/9b/13/49c281164c37be18343230d3cd0fca29efb23a493351db0009\n",
      "Successfully built python-Levenshtein\n",
      "Installing collected packages: python-Levenshtein\n",
      "Successfully installed python-Levenshtein-0.12.0\n",
      "\u001b[33mWARNING: You are using pip version 20.2.3; however, version 20.3.3 is available.\n",
      "You should consider upgrading via the '/Library/Frameworks/Python.framework/Versions/3.7/bin/python3 -m pip install --upgrade pip' command.\u001b[0m\n"
     ]
    }
   ],
   "source": [
    "!pip install fuzzywuzzy\n",
    "!pip install python-Levenshtein"
   ]
  },
  {
   "cell_type": "code",
   "execution_count": 240,
   "metadata": {},
   "outputs": [],
   "source": [
    "from fuzzywuzzy import fuzz\n",
    "from fuzzywuzzy import process\n",
    "import uuid\n",
    "from tqdm import tqdm\n",
    "from collections import defaultdict\n",
    "def test_detect_intent_knowledge(project_id, language_code,\n",
    "                            knowledge_base_id, reframed_questions, original_questions):\n",
    "    session_id = f\"session_{uuid.uuid4()}\"\n",
    "    \n",
    "    correct = 0\n",
    "    invalid = 0\n",
    "    invalid_questions = []\n",
    "    dubious_questions = defaultdict(list)\n",
    "    wrong_questions = defaultdict(list)\n",
    "    for reframed_q, original_q in tqdm(zip(reframed_questions, original_questions)):\n",
    "        # Ask knowledge base the reframed question\n",
    "        response = detect_intent_knowledge(project_id, session_id, language_code, knowledge_base_id, reframed_q)\n",
    "        if not response:\n",
    "            print(f\"EMPTY RESPONSE for {reframed_q}\")\n",
    "        # Verify whether faqQuestion detected matches the original question\n",
    "        answers = response.query_result.knowledge_answers.answers\n",
    "        if len(answers)>0:\n",
    "            detected_q = response.query_result.knowledge_answers.answers[0].faq_question\n",
    "            ratio = fuzz.ratio(detected_q.lower(),original_q.lower())\n",
    "            if ratio >= 90:\n",
    "                correct += 1\n",
    "                if ratio != 100:\n",
    "                    dubious_questions[ratio].append([reframed_q, detected_q, original_q])\n",
    "            else:\n",
    "                wrong_questions[ratio].append([reframed_q, detected_q, original_q])\n",
    "        else:\n",
    "            invalid += 1\n",
    "            invalid_questions.append(reframed_q)\n",
    "    print(f\"Result: {correct/len(reframed_questions)} with {correct} out of {len(reframed_questions)} questions correct\")\n",
    "    print(f\"\\n{len(wrong_questions.keys())} questions were WRONGLY MATCHED between detected question and original question\")\n",
    "    print(f\"{invalid} questions were INVALID\")\n",
    "    outstand_count = len(reframed_questions) - len(wrong_questions.keys()) - invalid - correct\n",
    "    if outstand_count != 0:\n",
    "        print(f\"You have {outstand_count} questions unaccounted for\")\n",
    "        print(f\"New Result: {correct/(len(reframed_questions) - outstand_count)} with {correct} out of {len(reframed_questions) - outstand_count} questions\")\n",
    "    return dubious_questions, wrong_questions, invalid_questions\n",
    "        "
   ]
  },
  {
   "cell_type": "code",
   "execution_count": 241,
   "metadata": {},
   "outputs": [
    {
     "name": "stderr",
     "output_type": "stream",
     "text": [
      "294it [07:03,  1.44s/it]"
     ]
    },
    {
     "name": "stdout",
     "output_type": "stream",
     "text": [
      "Result: 0.9421768707482994 with 277 out of 294 questions correct\n",
      "\n",
      "13 questions were WRONGLY MATCHED between detected question and original question\n",
      "1 questions were INVALID\n",
      "You have 3 questions unaccounted for\n",
      "New Result: 0.9518900343642611 with 277 out of 291 questions\n"
     ]
    },
    {
     "name": "stderr",
     "output_type": "stream",
     "text": [
      "\n"
     ]
    }
   ],
   "source": [
    "# Print percentage of questions answered correctly\n",
    "dubious_questions, wrong_questions, invalid_questions = test_detect_intent_knowledge(PROJECT_ID, LANGUAGE_CODE, BABY_BONUS_KB_ID,reframed_questions, original_questions)"
   ]
  },
  {
   "cell_type": "code",
   "execution_count": 229,
   "metadata": {},
   "outputs": [
    {
     "name": "stdout",
     "output_type": "stream",
     "text": [
      "dict_keys([99, 97, 98, 93, 96])\n"
     ]
    }
   ],
   "source": [
    "print(dubious_questions.keys())"
   ]
  },
  {
   "cell_type": "code",
   "execution_count": 224,
   "metadata": {},
   "outputs": [
    {
     "name": "stdout",
     "output_type": "stream",
     "text": [
      "1\n",
      "['More information about AI?\\n']\n"
     ]
    }
   ],
   "source": [
    "print(len(invalid_questions))\n",
    "print(invalid_questions)"
   ]
  },
  {
   "cell_type": "code",
   "execution_count": 225,
   "metadata": {},
   "outputs": [
    {
     "name": "stdout",
     "output_type": "stream",
     "text": [
      "13\n",
      "dict_keys([85, 37, 78, 43, 65, 46, 35, 58, 38, 45, 47, 89, 39])\n"
     ]
    }
   ],
   "source": [
    "print(len(wrong_questions.items()))\n",
    "print(wrong_questions.keys())"
   ]
  },
  {
   "cell_type": "code",
   "execution_count": 226,
   "metadata": {},
   "outputs": [
    {
     "name": "stdout",
     "output_type": "stream",
     "text": [
      "294\n"
     ]
    }
   ],
   "source": [
    "print(len(reframed_questions))"
   ]
  }
 ],
 "metadata": {
  "kernelspec": {
   "display_name": "Python 3",
   "language": "python",
   "name": "python3"
  },
  "language_info": {
   "codemirror_mode": {
    "name": "ipython",
    "version": 3
   },
   "file_extension": ".py",
   "mimetype": "text/x-python",
   "name": "python",
   "nbconvert_exporter": "python",
   "pygments_lexer": "ipython3",
   "version": "3.7.7"
  }
 },
 "nbformat": 4,
 "nbformat_minor": 4
}
