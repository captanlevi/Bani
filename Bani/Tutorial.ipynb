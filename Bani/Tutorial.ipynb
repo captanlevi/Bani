{
 "cells": [
  {
   "cell_type": "code",
   "execution_count": 1,
   "metadata": {},
   "outputs": [],
   "source": [
    "import sys\n",
    "from typing import List,Tuple,Dict"
   ]
  },
  {
   "cell_type": "code",
   "execution_count": 2,
   "metadata": {},
   "outputs": [],
   "source": [
    "# appending paths as this is a jupyter notebook\n",
    "sys.path.append('./')\n",
    "sys.path.append('./core')"
   ]
  },
  {
   "cell_type": "code",
   "execution_count": 2,
   "metadata": {
    "scrolled": true
   },
   "outputs": [
    {
     "name": "stdout",
     "output_type": "stream",
     "text": [
      "Requirement already satisfied: ChadBot5 in c:\\users\\rjkin\\appdata\\local\\programs\\python\\python36\\lib\\site-packages (0.1)\n",
      "Requirement already satisfied: pandas in c:\\users\\rjkin\\appdata\\local\\programs\\python\\python36\\lib\\site-packages (from ChadBot5) (1.1.0)\n",
      "Requirement already satisfied: numpy in c:\\users\\rjkin\\appdata\\local\\programs\\python\\python36\\lib\\site-packages (from ChadBot5) (1.18.5)\n",
      "Requirement already satisfied: sentence-transformers==0.3.8 in c:\\users\\rjkin\\appdata\\local\\programs\\python\\python36\\lib\\site-packages (from ChadBot5) (0.3.8)\n",
      "Requirement already satisfied: tqdm in c:\\users\\rjkin\\appdata\\local\\programs\\python\\python36\\lib\\site-packages (from ChadBot5) (4.48.2)\n",
      "Requirement already satisfied: spacy in c:\\users\\rjkin\\appdata\\local\\programs\\python\\python36\\lib\\site-packages (from ChadBot5) (2.3.2)\n",
      "Requirement already satisfied: nlpaug in c:\\users\\rjkin\\appdata\\local\\programs\\python\\python36\\lib\\site-packages (from ChadBot5) (0.0.16)\n",
      "Requirement already satisfied: regex in c:\\users\\rjkin\\appdata\\local\\programs\\python\\python36\\lib\\site-packages (from ChadBot5) (2020.7.14)\n",
      "Requirement already satisfied: pytz>=2017.2 in c:\\users\\rjkin\\appdata\\local\\programs\\python\\python36\\lib\\site-packages (from pandas->ChadBot5) (2020.1)\n",
      "Requirement already satisfied: python-dateutil>=2.7.3 in c:\\users\\rjkin\\appdata\\local\\programs\\python\\python36\\lib\\site-packages (from pandas->ChadBot5) (2.8.1)\n",
      "Requirement already satisfied: nltk in c:\\users\\rjkin\\appdata\\local\\programs\\python\\python36\\lib\\site-packages (from sentence-transformers==0.3.8->ChadBot5) (3.5)"
     ]
    }
   ],
   "source": [
    "!pip install ChadBot5"
   ]
  },
  {
   "cell_type": "code",
   "execution_count": 3,
   "metadata": {},
   "outputs": [
    {
     "name": "stdout",
     "output_type": "stream",
     "text": [
      "\n",
      "Requirement already satisfied: torch>=1.2.0 in c:\\users\\rjkin\\appdata\\local\\programs\\python\\python36\\lib\\site-packages (from sentence-transformers==0.3.8->ChadBot5) (1.5.0+cpu)\n",
      "Requirement already satisfied: scikit-learn in c:\\users\\rjkin\\appdata\\local\\programs\\python\\python36\\lib\\site-packages (from sentence-transformers==0.3.8->ChadBot5) (0.23.1)\n",
      "Requirement already satisfied: transformers<3.4.0,>=3.1.0 in c:\\users\\rjkin\\appdata\\local\\programs\\python\\python36\\lib\\site-packages (from sentence-transformers==0.3.8->ChadBot5) (3.2.0)\n",
      "Requirement already satisfied: scipy in c:\\users\\rjkin\\appdata\\local\\programs\\python\\python36\\lib\\site-packages (from sentence-transformers==0.3.8->ChadBot5) (1.4.1)\n",
      "Requirement already satisfied: srsly<1.1.0,>=1.0.2 in c:\\users\\rjkin\\appdata\\local\\programs\\python\\python36\\lib\\site-packages (from spacy->ChadBot5) (1.0.2)\n",
      "Requirement already satisfied: setuptools in c:\\users\\rjkin\\appdata\\local\\programs\\python\\python36\\lib\\site-packages (from spacy->ChadBot5) (50.3.2)\n",
      "Requirement already satisfied: thinc==7.4.1 in c:\\users\\rjkin\\appdata\\local\\programs\\python\\python36\\lib\\site-packages (from spacy->ChadBot5) (7.4.1)\n",
      "Requirement already satisfied: plac<1.2.0,>=0.9.6 in c:\\users\\rjkin\\appdata\\local\\programs\\python\\python36\\lib\\site-packages (from spacy->ChadBot5) (1.1.3)\n",
      "Requirement already satisfied: requests<3.0.0,>=2.13.0 in c:\\users\\rjkin\\appdata\\local\\programs\\python\\python36\\lib\\site-packages (from spacy->ChadBot5) (2.24.0)\n",
      "Requirement already satisfied: blis<0.5.0,>=0.4.0 in c:\\users\\rjkin\\appdata\\local\\programs\\python\\python36\\lib\\site-packages (from spacy->ChadBot5) (0.4.1)\n",
      "Requirement already satisfied: preshed<3.1.0,>=3.0.2 in c:\\users\\rjkin\\appdata\\local\\programs\\python\\python36\\lib\\site-packages (from spacy->ChadBot5) (3.0.2)\n",
      "Requirement already satisfied: cymem<2.1.0,>=2.0.2 in c:\\users\\rjkin\\appdata\\local\\programs\\python\\python36\\lib\\site-packages (from spacy->ChadBot5) (2.0.3)\n",
      "Requirement already satisfied: catalogue<1.1.0,>=0.0.7 in c:\\users\\rjkin\\appdata\\local\\programs\\python\\python36\\lib\\site-packages (from spacy->ChadBot5) (1.0.0)\n",
      "Requirement already satisfied: wasabi<1.1.0,>=0.4.0 in c:\\users\\rjkin\\appdata\\local\\programs\\python\\python36\\lib\\site-packages (from spacy->ChadBot5) (0.7.1)\n",
      "Requirement already satisfied: murmurhash<1.1.0,>=0.28.0 in c:\\users\\rjkin\\appdata\\local\\programs\\python\\python36\\lib\\site-packages (from spacy->ChadBot5) (1.0.2)\n",
      "Requirement already satisfied: six>=1.5 in c:\\users\\rjkin\\appdata\\local\\programs\\python\\python36\\lib\\site-packages (from python-dateutil>=2.7.3->pandas->ChadBot5) (1.15.0)\n",
      "Requirement already satisfied: click in c:\\users\\rjkin\\appdata\\local\\programs\\python\\python36\\lib\\site-packages (from nltk->sentence-transformers==0.3.8->ChadBot5) (7.1.2)\n",
      "Requirement already satisfied: joblib in c:\\users\\rjkin\\appdata\\local\\programs\\python\\python36\\lib\\site-packages (from nltk->sentence-transformers==0.3.8->ChadBot5) (0.16.0)\n",
      "Requirement already satisfied: future in c:\\users\\rjkin\\appdata\\local\\programs\\python\\python36\\lib\\site-packages (from torch>=1.2.0->sentence-transformers==0.3.8->ChadBot5) (0.18.2)\n",
      "Requirement already satisfied: threadpoolctl>=2.0.0 in c:\\users\\rjkin\\appdata\\local\\programs\\python\\python36\\lib\\site-packages (from scikit-learn->sentence-transformers==0.3.8->ChadBot5) (2.1.0)\n",
      "Requirement already satisfied: filelock in c:\\users\\rjkin\\appdata\\local\\programs\\python\\python36\\lib\\site-packages (from transformers<3.4.0,>=3.1.0->sentence-transformers==0.3.8->ChadBot5) (3.0.12)\n",
      "Requirement already satisfied: packaging in c:\\users\\rjkin\\appdata\\local\\programs\\python\\python36\\lib\\site-packages (from transformers<3.4.0,>=3.1.0->sentence-transformers==0.3.8->ChadBot5) (20.4)\n",
      "Requirement already satisfied: dataclasses; python_version < \"3.7\" in c:\\users\\rjkin\\appdata\\local\\programs\\python\\python36\\lib\\site-packages (from transformers<3.4.0,>=3.1.0->sentence-transformers==0.3.8->ChadBot5) (0.7)\n",
      "Requirement already satisfied: sentencepiece!=0.1.92 in c:\\users\\rjkin\\appdata\\local\\programs\\python\\python36\\lib\\site-packages (from transformers<3.4.0,>=3.1.0->sentence-transformers==0.3.8->ChadBot5) (0.1.91)\n",
      "Requirement already satisfied: tokenizers==0.8.1.rc2 in c:\\users\\rjkin\\appdata\\local\\programs\\python\\python36\\lib\\site-packages (from transformers<3.4.0,>=3.1.0->sentence-transformers==0.3.8->ChadBot5) (0.8.1rc2)\n",
      "Requirement already satisfied: sacremoses in c:\\users\\rjkin\\appdata\\local\\programs\\python\\python36\\lib\\site-packages (from transformers<3.4.0,>=3.1.0->sentence-transformers==0.3.8->ChadBot5) (0.0.43)\n",
      "Requirement already satisfied: idna<3,>=2.5 in c:\\users\\rjkin\\appdata\\local\\programs\\python\\python36\\lib\\site-packages (from requests<3.0.0,>=2.13.0->spacy->ChadBot5) (2.10)\n",
      "Requirement already satisfied: urllib3!=1.25.0,!=1.25.1,<1.26,>=1.21.1 in c:\\users\\rjkin\\appdata\\local\\programs\\python\\python36\\lib\\site-packages (from requests<3.0.0,>=2.13.0->spacy->ChadBot5) (1.25.10)\n",
      "Requirement already satisfied: certifi>=2017.4.17 in c:\\users\\rjkin\\appdata\\local\\programs\\python\\python36\\lib\\site-packages (from requests<3.0.0,>=2.13.0->spacy->ChadBot5) (2020.6.20)\n",
      "Requirement already satisfied: chardet<4,>=3.0.2 in c:\\users\\rjkin\\appdata\\local\\programs\\python\\python36\\lib\\site-packages (from requests<3.0.0,>=2.13.0->spacy->ChadBot5) (3.0.4)\n",
      "Requirement already satisfied: importlib-metadata>=0.20; python_version < \"3.8\" in c:\\users\\rjkin\\appdata\\local\\programs\\python\\python36\\lib\\site-packages (from catalogue<1.1.0,>=0.0.7->spacy->ChadBot5) (1.7.0)\n",
      "Requirement already satisfied: pyparsing>=2.0.2 in c:\\users\\rjkin\\appdata\\local\\programs\\python\\python36\\lib\\site-packages (from packaging->transformers<3.4.0,>=3.1.0->sentence-transformers==0.3.8->ChadBot5) (2.4.7)\n",
      "Requirement already satisfied: zipp>=0.5 in c:\\users\\rjkin\\appdata\\local\\programs\\python\\python36\\lib\\site-packages (from importlib-metadata>=0.20; python_version < \"3.8\"->catalogue<1.1.0,>=0.0.7->spacy->ChadBot5) (3.1.0)\n"
     ]
    }
   ],
   "source": [
    "from ChadBot.core.FAQ import FAQ, processRaw\n",
    "from ChadBot.chadBot import ChadBot"
   ]
  },
  {
   "cell_type": "code",
   "execution_count": 4,
   "metadata": {},
   "outputs": [],
   "source": [
    "\"\"\"\n",
    "This cell is optional, we read the data from any faq here\n",
    "In this case we use the orignal faq pickle files , you may use\n",
    "csv or any other format !!!\n",
    "\"\"\"\n",
    "import pickle\n",
    "def save_dict(obj, path):\n",
    "    with open(path, 'wb') as f:\n",
    "        pickle.dump(obj, f, pickle.HIGHEST_PROTOCOL)\n",
    "\n",
    "def load_dict(path):\n",
    "    with open(path, 'rb') as f:\n",
    "        return pickle.load(f)\n",
    "    \n",
    "def extractQA(orignalDct):\n",
    "    \"\"\"\n",
    "    Just returns the questions and answers in a list , \n",
    "    NOthing fancy\n",
    "    \"\"\"\n",
    "    q2L = orignalDct[\"question_to_label\"]\n",
    "    a2L = orignalDct[\"answer_to_label\"]\n",
    "    \n",
    "\n",
    "    l2A = dict()\n",
    "    for a,l in a2L.items():\n",
    "        l2A[l] = a\n",
    "\n",
    "\n",
    "    questions = []\n",
    "    answers = []\n",
    "\n",
    "    for q,l in q2L.items():\n",
    "        questions.append(q)\n",
    "        answers.append(l2A[l])\n",
    "    return questions , answers\n",
    "    \n",
    "\n",
    "babyBonusOrignal = load_dict(\"./tutorialFAQs/baby_bonus_orignal.pkl\") \n",
    "comcareOrignal =  load_dict(\"./tutorialFAQs/comcare_orignal.pkl\")\n",
    "\n",
    "\n",
    "b_questions , b_answers = extractQA(babyBonusOrignal)\n",
    "c_questions , c_answers = extractQA(comcareOrignal)\n",
    "\n",
    "\n",
    "\n",
    "    \n"
   ]
  },
  {
   "cell_type": "code",
   "execution_count": 5,
   "metadata": {},
   "outputs": [],
   "source": [
    "\"\"\"\n",
    "NOw the real work starts , We have question answer pairs from \n",
    "baby bonus and comcare , We need to create a new faq for both of them\n",
    "\n",
    "NOTE - This is the starting point , we need a LIst of questions and a list of answers\n",
    "THE LENGTH OF BOTH LIST MUST BE SAME\n",
    "if two questions answer the same questions then just copy the answer \n",
    "\"\"\"\n",
    "\n",
    "\n",
    "# first we convert the questions and answers to \n",
    "babyBonusFAQ = FAQ(name = \"babyBonus\",questions = b_questions, answers = b_answers)\n",
    "comcareFAQ = FAQ(name = \"comcare\", questions = c_questions , answers = c_answers)"
   ]
  },
  {
   "cell_type": "code",
   "execution_count": 7,
   "metadata": {},
   "outputs": [
    {
     "name": "stderr",
     "output_type": "stream",
     "text": [
      "Some weights of the model checkpoint at bert-base-uncased were not used when initializing BertForMaskedLM: ['cls.seq_relationship.weight', 'cls.seq_relationship.bias']\n",
      "- This IS expected if you are initializing BertForMaskedLM from the checkpoint of a model trained on another task or with another architecture (e.g. initializing a BertForSequenceClassification model from a BertForPretraining model).\n",
      "- This IS NOT expected if you are initializing BertForMaskedLM from the checkpoint of a model that you expect to be exactly identical (initializing a BertForSequenceClassification model from a BertForSequenceClassification model).\n",
      "Some weights of BertForMaskedLM were not initialized from the model checkpoint at bert-base-uncased and are newly initialized: ['cls.predictions.decoder.bias']\n",
      "You should probably TRAIN this model on a down-stream task to be able to use it for predictions and inference.\n"
     ]
    }
   ],
   "source": [
    "\"\"\"\n",
    "Until this point we only have the orignal questions and answers in the faq\n",
    "We now need to do two things\n",
    "1) generate questions using pipelined\n",
    "2) assign vectors to the questions using a model  \n",
    "\n",
    "\n",
    "you can use your own generation pipeline , or use the default pipeline provided !!!\n",
    "if you choose to implement your own pipeline make sure that your class implements at least one of \n",
    "batch_generate or exact_batch_generate methods\n",
    "\n",
    "\n",
    "\"\"\"\n",
    "from core.defaults import defaultGenerateManager\n"
   ]
  },
  {
   "cell_type": "code",
   "execution_count": 8,
   "metadata": {},
   "outputs": [],
   "source": [
    "\"\"\"\n",
    "This is an example of creating your own GenerateManager\n",
    "\n",
    "\"\"\"\n",
    "\n",
    "from core.generation import GenerateManager\n",
    "\n",
    "class MyProducer1:\n",
    "    def __init__(self):\n",
    "        pass\n",
    "    \n",
    "    def batch_generate(questions : List[str]) -> Dict[str, List[str]]:\n",
    "        \"\"\"\n",
    "        Takes list of questions and returns a dict , with each question \n",
    "        mapped to the list of generated questions\n",
    "        \"\"\"\n",
    "        \n",
    "        resultDict = dict()\n",
    "        for question in questions:\n",
    "            resultDict[question] = [\"generated1\", \"generated2\", \"and so on\"]\n",
    "        \n",
    "        return resultDict\n",
    "    \n",
    "class MyProducer2:\n",
    "    def __init__(self):\n",
    "        pass\n",
    "    \n",
    "    def batch_generate(questions : List[str]) -> Dict[str, List[str]]:\n",
    "        \"\"\"\n",
    "        Takes list of questions and returns a dict , with each question \n",
    "        mapped to the list of generated questions\n",
    "        \"\"\"\n",
    "        \n",
    "        resultDict = dict()\n",
    "        for question in questions:\n",
    "            resultDict[question] = [\"generated1\", \"generated2\", \"and so on\"]\n",
    "        \n",
    "        return resultDict\n",
    "    \n",
    "    \n",
    "names = [\"myProducer1_name\", \"myProducer2_name\"]\n",
    "toGenerate = [3,5] # At max generate 3 for first producer and 5 for second\n",
    "producers = [MyProducer1(), MyProducer2()]\n",
    "\n",
    "\n",
    "myGenerateManager = GenerateManager(producers = producers , names = names , nums = toGenerate)\n",
    "    \n",
    "\n",
    "    \n",
    "\n",
    "    \n",
    "    \n",
    "\n",
    "    "
   ]
  },
  {
   "cell_type": "code",
   "execution_count": 9,
   "metadata": {},
   "outputs": [
    {
     "name": "stdout",
     "output_type": "stream",
     "text": [
      "working with SymSub pipeline\n",
      "Initializing spaCy model...\n"
     ]
    },
    {
     "name": "stderr",
     "output_type": "stream",
     "text": [
      "100%|██████████████████████████████████████████████████████████████████████████████████████████████████████████| 291/291 [00:26<00:00, 10.98it/s]\n",
      "  0%|                                                                                                                    | 0/291 [00:00<?, ?it/s]"
     ]
    },
    {
     "name": "stdout",
     "output_type": "stream",
     "text": [
      "working with FPM pipeline\n"
     ]
    },
    {
     "name": "stderr",
     "output_type": "stream",
     "text": [
      "100%|██████████████████████████████████████████████████████████████████████████████████████████████████████████| 291/291 [02:45<00:00,  1.76it/s]\n",
      " 13%|█████████████▍                                                                                            | 37/291 [00:00<00:00, 362.74it/s]"
     ]
    },
    {
     "name": "stdout",
     "output_type": "stream",
     "text": [
      "working with EDA pipeline\n"
     ]
    },
    {
     "name": "stderr",
     "output_type": "stream",
     "text": [
      "100%|█████████████████████████████████████████████████████████████████████████████████████████████████████████| 291/291 [00:00<00:00, 456.11it/s]\n"
     ]
    },
    {
     "name": "stdout",
     "output_type": "stream",
     "text": [
      "working with BrokenEnglish pipeline\n"
     ]
    },
    {
     "name": "stderr",
     "output_type": "stream",
     "text": [
      "C:\\Users\\rjkin\\Desktop\\Thesis\\core\\generation.py:128: UserWarning: BrokenEnglish pipeline failed !!!! module 'jieba' has no attribute 'suggest_freq'\n",
      "  warnings.warn(\"{} pipeline failed !!!! {}\".format(generator.name,exception))\n",
      "\r",
      "  0%|                                                                                                                    | 0/291 [00:00<?, ?it/s]"
     ]
    },
    {
     "name": "stdout",
     "output_type": "stream",
     "text": [
      "working with nlpAug pipeline\n"
     ]
    },
    {
     "name": "stderr",
     "output_type": "stream",
     "text": [
      "100%|██████████████████████████████████████████████████████████████████████████████████████████████████████████| 291/291 [02:52<00:00,  1.69it/s]\n"
     ]
    }
   ],
   "source": [
    "\"\"\"\n",
    "\n",
    "Now we will build the FAQ using the generationManager\n",
    "\n",
    "\"\"\"\n",
    "\n",
    "babyBonusFAQ.buildFAQ(generator = defaultGenerateManager)"
   ]
  },
  {
   "cell_type": "code",
   "execution_count": 10,
   "metadata": {
    "scrolled": false
   },
   "outputs": [
    {
     "name": "stderr",
     "output_type": "stream",
     "text": [
      "\r",
      "  0%|                                                                                                                    | 0/288 [00:00<?, ?it/s]"
     ]
    },
    {
     "name": "stdout",
     "output_type": "stream",
     "text": [
      "working with SymSub pipeline\n"
     ]
    },
    {
     "name": "stderr",
     "output_type": "stream",
     "text": [
      "100%|██████████████████████████████████████████████████████████████████████████████████████████████████████████| 288/288 [00:57<00:00,  4.99it/s]\n",
      "  0%|                                                                                                                    | 0/288 [00:00<?, ?it/s]"
     ]
    },
    {
     "name": "stdout",
     "output_type": "stream",
     "text": [
      "working with FPM pipeline\n"
     ]
    },
    {
     "name": "stderr",
     "output_type": "stream",
     "text": [
      "100%|██████████████████████████████████████████████████████████████████████████████████████████████████████████| 288/288 [03:14<00:00,  1.48it/s]\n",
      " 17%|█████████████████▋                                                                                        | 48/288 [00:00<00:00, 461.54it/s]"
     ]
    },
    {
     "name": "stdout",
     "output_type": "stream",
     "text": [
      "working with EDA pipeline\n"
     ]
    },
    {
     "name": "stderr",
     "output_type": "stream",
     "text": [
      "100%|█████████████████████████████████████████████████████████████████████████████████████████████████████████| 288/288 [00:00<00:00, 586.28it/s]\n"
     ]
    },
    {
     "name": "stdout",
     "output_type": "stream",
     "text": [
      "working with BrokenEnglish pipeline\n"
     ]
    },
    {
     "name": "stderr",
     "output_type": "stream",
     "text": [
      "\r",
      "  0%|                                                                                                                    | 0/288 [00:00<?, ?it/s]"
     ]
    },
    {
     "name": "stdout",
     "output_type": "stream",
     "text": [
      "working with nlpAug pipeline\n"
     ]
    },
    {
     "name": "stderr",
     "output_type": "stream",
     "text": [
      "100%|██████████████████████████████████████████████████████████████████████████████████████████████████████████| 288/288 [03:02<00:00,  1.57it/s]\n"
     ]
    }
   ],
   "source": [
    "comcareFAQ.buildFAQ(generator  = defaultGenerateManager)"
   ]
  },
  {
   "cell_type": "code",
   "execution_count": 11,
   "metadata": {},
   "outputs": [],
   "source": [
    "\"\"\"\n",
    "Now we can save the FAQ at any time we want !! , just pass the path to the root dir \n",
    "\"\"\"\n",
    "babyBonusFAQ.save(\"./faqStore\")\n",
    "comcareFAQ.save(\"./faqStore\")"
   ]
  },
  {
   "cell_type": "code",
   "execution_count": 6,
   "metadata": {},
   "outputs": [],
   "source": [
    "\"\"\"\n",
    "The saved FAQ can be easily loaded \n",
    "\"\"\"\n",
    "babyBonusFAQ = FAQ(\"babyBonus\")\n",
    "babyBonusFAQ.load(\"./faqStore\")"
   ]
  },
  {
   "cell_type": "code",
   "execution_count": 7,
   "metadata": {},
   "outputs": [],
   "source": [
    "comcareFAQ = FAQ(\"comcare\")\n",
    "comcareFAQ.load(\"./faqStore\")"
   ]
  },
  {
   "cell_type": "code",
   "execution_count": 8,
   "metadata": {},
   "outputs": [
    {
     "name": "stderr",
     "output_type": "stream",
     "text": [
      "C:\\Users\\rjkin\\AppData\\Local\\Programs\\Python\\Python36\\lib\\site-packages\\ChadBot\\chadBot.py:130: UserWarning: Vectors already assigned to babyBonus FAQ , if you want to reassign using the current model please clear the vectors using resetAssigned vectors\n",
      "  warnings.warn(\"Vectors already assigned to {} FAQ , if you want to reassign using the current model please clear the vectors using resetAssigned vectors\".format(faq.name))\n",
      "C:\\Users\\rjkin\\AppData\\Local\\Programs\\Python\\Python36\\lib\\site-packages\\ChadBot\\chadBot.py:130: UserWarning: Vectors already assigned to comcare FAQ , if you want to reassign using the current model please clear the vectors using resetAssigned vectors\n",
      "  warnings.warn(\"Vectors already assigned to {} FAQ , if you want to reassign using the current model please clear the vectors using resetAssigned vectors\".format(faq.name))\n"
     ]
    }
   ],
   "source": [
    "\"\"\"\n",
    "Lets now take a look at the bot part\n",
    "\"\"\"\n",
    "\n",
    "bot = ChadBot(FAQs =[babyBonusFAQ, comcareFAQ], modelPath = None)"
   ]
  },
  {
   "cell_type": "code",
   "execution_count": null,
   "metadata": {},
   "outputs": [],
   "source": [
    "\"\"\"\n",
    "We can also save the FAQ again to preserve the assigned vectors ,\n",
    "The next time you load these FAQs with the bot the vectors will not be reassigned ,\n",
    "You need to clear the assigned vectors if you want to reassign\n",
    "\"\"\"\n",
    "bot.saveFAQs(\"./faqStore\")\n"
   ]
  },
  {
   "cell_type": "code",
   "execution_count": null,
   "metadata": {},
   "outputs": [],
   "source": [
    "out = bot.findClosest(\"what is comcare?\", K = 5)"
   ]
  },
  {
   "cell_type": "code",
   "execution_count": 12,
   "metadata": {},
   "outputs": [
    {
     "data": {
      "text/plain": [
       "'The Community Care Endowment Fund (“ComCare Fund”) was launched by Prime Minister Lee Hsien Loong on 28 June 2005 as a sustainable source of funds to provide social assistance to low-income Singaporeans. The interest income generated from the ComCare Fund is used to fund ComCare programmes.'"
      ]
     },
     "execution_count": 12,
     "metadata": {},
     "output_type": "execute_result"
    }
   ],
   "source": [
    "bot.findClosestFromFAQ(1,\"What is comcare?\", K = 1, topSimilar= 5).answer.text"
   ]
  },
  {
   "cell_type": "code",
   "execution_count": 8,
   "metadata": {},
   "outputs": [
    {
     "data": {
      "text/plain": [
       "'\\nTraining\\n'"
      ]
     },
     "execution_count": 8,
     "metadata": {},
     "output_type": "execute_result"
    }
   ],
   "source": [
    "\"\"\"\n",
    "Training\n",
    "\"\"\""
   ]
  },
  {
   "cell_type": "code",
   "execution_count": null,
   "metadata": {},
   "outputs": [
    {
     "data": {
      "application/vnd.jupyter.widget-view+json": {
       "model_id": "c38b261b70f84fb0b6bb2c260ef8a371",
       "version_major": 2,
       "version_minor": 0
      },
      "text/plain": [
       "HBox(children=(FloatProgress(value=0.0, description='Epoch', max=1.0, style=ProgressStyle(description_width='i…"
      ]
     },
     "metadata": {},
     "output_type": "display_data"
    },
    {
     "data": {
      "application/vnd.jupyter.widget-view+json": {
       "model_id": "3756a9c969ef4472b02e028015789fdd",
       "version_major": 2,
       "version_minor": 0
      },
      "text/plain": [
       "HBox(children=(FloatProgress(value=0.0, description='Iteration', max=209.0, style=ProgressStyle(description_wi…"
      ]
     },
     "metadata": {},
     "output_type": "display_data"
    }
   ],
   "source": [
    "bot.train(\"./checkpoints/dummy\")"
   ]
  },
  {
   "cell_type": "code",
   "execution_count": null,
   "metadata": {},
   "outputs": [],
   "source": []
  }
 ],
 "metadata": {
  "kernelspec": {
   "display_name": "Python 3",
   "language": "python",
   "name": "python3"
  },
  "language_info": {
   "codemirror_mode": {
    "name": "ipython",
    "version": 3
   },
   "file_extension": ".py",
   "mimetype": "text/x-python",
   "name": "python",
   "nbconvert_exporter": "python",
   "pygments_lexer": "ipython3",
   "version": "3.6.6"
  }
 },
 "nbformat": 4,
 "nbformat_minor": 4
}
